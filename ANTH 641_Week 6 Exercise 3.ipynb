{
 "cells": [
  {
   "cell_type": "markdown",
   "metadata": {},
   "source": [
    "# Using the Portable Antiquities Scheme API\n",
    "\n",
    "This activity is based on the notebook developed by ODAT and script by Daniel Pett [Fitzwilliam Museum](fitzmuseum.cam.ac.uk), who designed and built the PAS database and API The original notebook can be found in this forked repository. \n",
    "\n",
    "The [Portable Antiquities Scheme](https://finds.org.uk/about) provides an open access database of finds in support of the Treasury Act. The PAS records finds discovered by the public, outside of excavation, in England and Wales. The data available on the database can be accessed by anyone, but exact findspots are only available to credentialed researchers. The current data consist of almost 1.5 million objects that often contain visual media in the form of photographs, illustrations, or 3D models, as well as linked data. This model of public–professional collaboration, coupled with an open access dissemination strategy, has proven productive. The PAS lists close to 150 PhD dissertations that have used their data, as well as over 700 total research projects. \n",
    "\n",
    "You've already used Python to connect to the Open Context API, but here we'll use R and try to retrieve data using the PAS API. Since you've already go through the process with using an API, try to notice any similarities or differences between using Python and R. "
   ]
  },
  {
   "cell_type": "markdown",
   "metadata": {},
   "source": [
    "1. First bring in two packages in R. \n",
    "\n",
    "`library(jsonlite)`\n",
    "\n",
    "`library(RCurl)`\n"
   ]
  },
  {
   "cell_type": "code",
   "execution_count": 3,
   "metadata": {},
   "outputs": [
    {
     "name": "stderr",
     "output_type": "stream",
     "text": [
      "also installing the dependency 'bitops'\n",
      "\n"
     ]
    },
    {
     "name": "stdout",
     "output_type": "stream",
     "text": [
      "package 'bitops' successfully unpacked and MD5 sums checked\n",
      "package 'RCurl' successfully unpacked and MD5 sums checked\n",
      "\n",
      "The downloaded binary packages are in\n",
      "\tC:\\Users\\Kevin\\AppData\\Local\\Temp\\Rtmp6Z64Wq\\downloaded_packages\n"
     ]
    }
   ],
   "source": [
    "install.packages(\"RCurl\")"
   ]
  },
  {
   "cell_type": "code",
   "execution_count": 4,
   "metadata": {},
   "outputs": [],
   "source": [
    "library(jsonlite)"
   ]
  },
  {
   "cell_type": "code",
   "execution_count": 5,
   "metadata": {},
   "outputs": [
    {
     "name": "stderr",
     "output_type": "stream",
     "text": [
      "Warning message:\n",
      "\"package 'RCurl' was built under R version 3.6.2\""
     ]
    }
   ],
   "source": [
    "library(RCurl)"
   ]
  },
  {
   "cell_type": "code",
   "execution_count": 10,
   "metadata": {
    "scrolled": true
   },
   "outputs": [
    {
     "name": "stdout",
     "output_type": "stream",
     "text": [
      "package 'curl' successfully unpacked and MD5 sums checked\n",
      "\n",
      "The downloaded binary packages are in\n",
      "\tC:\\Users\\Kevin\\AppData\\Local\\Temp\\Rtmp6Z64Wq\\downloaded_packages\n"
     ]
    }
   ],
   "source": [
    "install.packages('curl')"
   ]
  },
  {
   "cell_type": "markdown",
   "metadata": {},
   "source": [
    "2. We're going to create a variable that will act as the base URL for PAS. This will be used later in the exercise. \n",
    "\n",
    "`base <- 'https://finds.org.uk/'`"
   ]
  },
  {
   "cell_type": "code",
   "execution_count": 6,
   "metadata": {},
   "outputs": [],
   "source": [
    "base <- 'https://finds.org.uk/'"
   ]
  },
  {
   "cell_type": "code",
   "execution_count": null,
   "metadata": {},
   "outputs": [],
   "source": []
  },
  {
   "cell_type": "markdown",
   "metadata": {},
   "source": [
    "3. Now we'll set up the query that will set the parameters of the data we want to access. We want to access all of the __Gold__ objects from the __Bronze Age__ that have __Images__. Before we go through the R code let's check the source data we're trying to access. Go to the [PAS database](https://finds.org.uk/database) and search \"Gold\" - you'll have close to 24K results. Limit the query on the right side to \"Bronze Age\" which will limit the results to about 4,300. Click on \"Only results with images: On\" - 385 results. These are the data you're going to access. If you click on the json linke at the bottom of the screen under \"Other formats:\" you'll see how the data is actually structured \"behind the scenes\" and how we'll retrive it. \n",
    "\n",
    "`url <-\"https://finds.org.uk/database/search/results/q/gold/broadperiod/BRONZE+AGE/thumbnail/1/format/json\"`"
   ]
  },
  {
   "cell_type": "code",
   "execution_count": 7,
   "metadata": {},
   "outputs": [],
   "source": [
    "url <-\"https://finds.org.uk/database/search/results/q/gold/broadperiod/BRONZE+AGE/thumbnail/1/format/json\""
   ]
  },
  {
   "cell_type": "markdown",
   "metadata": {},
   "source": [
    "4. We'll set up a variable that goes to the url (our query parameters in PAS) and gets the data. \n",
    "\n",
    "`json <- fromJSON(url)`"
   ]
  },
  {
   "cell_type": "markdown",
   "metadata": {},
   "source": [
    "5. Let's look at the first part of the data we've retrived. \n",
    "\n",
    "`head(json)`"
   ]
  },
  {
   "cell_type": "markdown",
   "metadata": {},
   "source": [
    "6. You can see at the top that there is some metadata related to the query results. We may need it later so we should grab it from the json file\n",
    "\n",
    "`total <- json$meta$totalResults`\n",
    "\n",
    "`pagination <- ceiling(total/results)`\n",
    "\n",
    "`results <- json$meta$resultsPerPage`"
   ]
  },
  {
   "cell_type": "markdown",
   "metadata": {},
   "source": [
    "7. This API brings back all of the data associated with all of the objects from our PAS query and that can be A LOT of information. If we're just interested in some of the variables for each objects we can limit those\n",
    "\n",
    "`keeps <- c(\"id\", \"objecttype\", \"old_findID\", \"broadperiod\", \"institution\", \"imagedirf\", \"filename\")`"
   ]
  },
  {
   "cell_type": "markdown",
   "metadata": {},
   "source": [
    "8. We're then going make this limited data available from the json results of our API query and keep the columns we want. \n",
    "\n",
    "`data <- json$results`\n",
    "\n",
    "`data <- data[,(names(data) %in% keeps)]`"
   ]
  },
  {
   "cell_type": "markdown",
   "metadata": {},
   "source": [
    "9. We can now look at the first part of the dataframe. \n",
    "\n",
    "`head(data)`"
   ]
  },
  {
   "cell_type": "code",
   "execution_count": null,
   "metadata": {},
   "outputs": [],
   "source": []
  }
 ],
 "metadata": {
  "kernelspec": {
   "display_name": "R",
   "language": "R",
   "name": "ir"
  },
  "language_info": {
   "codemirror_mode": "r",
   "file_extension": ".r",
   "mimetype": "text/x-r-source",
   "name": "R",
   "pygments_lexer": "r",
   "version": "3.6.1"
  }
 },
 "nbformat": 4,
 "nbformat_minor": 2
}
